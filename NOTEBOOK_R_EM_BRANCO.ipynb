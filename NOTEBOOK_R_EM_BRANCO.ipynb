{
  "nbformat": 4,
  "nbformat_minor": 0,
  "metadata": {
    "colab": {
      "name": "NOTEBOOK R EM BRANCO.ipynb",
      "provenance": [],
      "collapsed_sections": [],
      "authorship_tag": "ABX9TyPJWLYxqrzaWgatuK5S95ku",
      "include_colab_link": true
    },
    "kernelspec": {
      "name": "ir",
      "display_name": "R"
    },
    "language_info": {
      "name": "R"
    }
  },
  "cells": [
    {
      "cell_type": "markdown",
      "metadata": {
        "id": "view-in-github",
        "colab_type": "text"
      },
      "source": [
        "<a href=\"https://colab.research.google.com/github/josafa-caldas/estudo/blob/main/NOTEBOOK_R_EM_BRANCO.ipynb\" target=\"_parent\"><img src=\"https://colab.research.google.com/assets/colab-badge.svg\" alt=\"Open In Colab\"/></a>"
      ]
    },
    {
      "cell_type": "code",
      "source": [
        "library(readxl)\n",
        "url = \"https://github.com/josafa-caldas/estudo/raw/main/covXls.xlsx\"\n",
        "covXls <- read_excel(url)\n",
        "View(covXls)"
      ],
      "metadata": {
        "id": "eOiuYzF-SJ2e",
        "colab": {
          "base_uri": "https://localhost:8080/",
          "height": 171
        },
        "outputId": "804fd97a-a587-4f00-f6de-63185491870a"
      },
      "execution_count": 5,
      "outputs": [
        {
          "output_type": "error",
          "ename": "ERROR",
          "evalue": "ignored",
          "traceback": [
            "Error: `path` does not exist: ‘https://github.com/josafa-caldas/estudo/raw/main/covXls.xlsx’\nTraceback:\n",
            "1. read_excel(url)",
            "2. check_file(path)",
            "3. stop(\"`path` does not exist: \", sQuote(path), call. = FALSE)"
          ]
        }
      ]
    },
    {
      "cell_type": "code",
      "source": [],
      "metadata": {
        "id": "A8G_I0R_SJ5-"
      },
      "execution_count": null,
      "outputs": []
    },
    {
      "cell_type": "code",
      "source": [],
      "metadata": {
        "id": "Km8jNGf8SJ9L"
      },
      "execution_count": null,
      "outputs": []
    },
    {
      "cell_type": "code",
      "source": [],
      "metadata": {
        "id": "Yt-FejcbSKAS"
      },
      "execution_count": null,
      "outputs": []
    },
    {
      "cell_type": "code",
      "source": [],
      "metadata": {
        "id": "ZJZQ6LfRSKDK"
      },
      "execution_count": null,
      "outputs": []
    },
    {
      "cell_type": "code",
      "source": [],
      "metadata": {
        "id": "4rMUaXsOSKGF"
      },
      "execution_count": null,
      "outputs": []
    },
    {
      "cell_type": "code",
      "source": [],
      "metadata": {
        "id": "RSaCQOJ2SKJd"
      },
      "execution_count": null,
      "outputs": []
    },
    {
      "cell_type": "code",
      "source": [],
      "metadata": {
        "id": "edP5hccaSKZD"
      },
      "execution_count": null,
      "outputs": []
    }
  ]
}